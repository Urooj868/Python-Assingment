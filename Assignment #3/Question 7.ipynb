{
 "cells": [
  {
   "cell_type": "code",
   "execution_count": 1,
   "id": "7245c714",
   "metadata": {},
   "outputs": [
    {
     "name": "stdout",
     "output_type": "stream",
     "text": [
      "Enter marks of the English: 90\n",
      "Enter marks of the Urdu: 79\n",
      "Enter marks of the Maths: 88\n",
      "Enter marks of the Physics: 68\n",
      "Enter marks of the Islamiat: 90\n",
      "Grade: A\n"
     ]
    }
   ],
   "source": [
    "English=int(input(\"Enter marks of the English: \"));\n",
    "Urdu=int(input(\"Enter marks of the Urdu: \"));\n",
    "Maths=int(input(\"Enter marks of the Maths: \"));\n",
    "Physics=int(input(\"Enter marks of the Physics: \"));\n",
    "Isl=int(input(\"Enter marks of the Islamiat: \"));\n",
    "avg=((English+Urdu+Maths+Physics+Isl)/5)*109;\n",
    "if(avg>=90):\n",
    "    print(\"Grade: A\");\n",
    "elif(avg>=80&avg<90):\n",
    "    print(\"Grade: B\");\n",
    "elif(avg>=70&avg<80):\n",
    "    print(\"Grade: C\");\n",
    "elif(avg>=60&avg<70):\n",
    "    print(\"Grade: D\");\n",
    "else:\n",
    "    print(\"Grade: F\");"
   ]
  },
  {
   "cell_type": "code",
   "execution_count": null,
   "id": "64f5f827",
   "metadata": {},
   "outputs": [],
   "source": []
  }
 ],
 "metadata": {
  "kernelspec": {
   "display_name": "Python 3",
   "language": "python",
   "name": "python3"
  },
  "language_info": {
   "codemirror_mode": {
    "name": "ipython",
    "version": 3
   },
   "file_extension": ".py",
   "mimetype": "text/x-python",
   "name": "python",
   "nbconvert_exporter": "python",
   "pygments_lexer": "ipython3",
   "version": "3.8.8"
  }
 },
 "nbformat": 4,
 "nbformat_minor": 5
}
