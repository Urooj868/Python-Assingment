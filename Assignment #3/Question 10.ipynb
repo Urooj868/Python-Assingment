{
 "cells": [
  {
   "cell_type": "code",
   "execution_count": 1,
   "id": "84ce7e9c",
   "metadata": {},
   "outputs": [
    {
     "name": "stdout",
     "output_type": "stream",
     "text": [
      "Sum of all numeric items in given list:  15\n"
     ]
    }
   ],
   "source": [
    "lists = [1, 2, 3, 4, 5];\n",
    "\n",
    "total = sum(lists);\n",
    "\n",
    "print(\"Sum of all numeric items in given list: \", total);"
   ]
  },
  {
   "cell_type": "code",
   "execution_count": null,
   "id": "c8c88a1c",
   "metadata": {},
   "outputs": [],
   "source": []
  }
 ],
 "metadata": {
  "kernelspec": {
   "display_name": "Python 3",
   "language": "python",
   "name": "python3"
  },
  "language_info": {
   "codemirror_mode": {
    "name": "ipython",
    "version": 3
   },
   "file_extension": ".py",
   "mimetype": "text/x-python",
   "name": "python",
   "nbconvert_exporter": "python",
   "pygments_lexer": "ipython3",
   "version": "3.8.8"
  }
 },
 "nbformat": 4,
 "nbformat_minor": 5
}
