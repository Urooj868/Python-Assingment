{
 "cells": [
  {
   "cell_type": "code",
   "execution_count": 1,
   "id": "ec078e85",
   "metadata": {},
   "outputs": [
    {
     "name": "stdout",
     "output_type": "stream",
     "text": [
      "Largest number is: 9\n"
     ]
    }
   ],
   "source": [
    "lists = [1, 2, 4, 5, 9];\n",
    "\n",
    "print(\"Largest number is:\", max(lists));"
   ]
  },
  {
   "cell_type": "code",
   "execution_count": null,
   "id": "a3dcb0fb",
   "metadata": {},
   "outputs": [],
   "source": []
  }
 ],
 "metadata": {
  "kernelspec": {
   "display_name": "Python 3",
   "language": "python",
   "name": "python3"
  },
  "language_info": {
   "codemirror_mode": {
    "name": "ipython",
    "version": 3
   },
   "file_extension": ".py",
   "mimetype": "text/x-python",
   "name": "python",
   "nbconvert_exporter": "python",
   "pygments_lexer": "ipython3",
   "version": "3.8.8"
  }
 },
 "nbformat": 4,
 "nbformat_minor": 5
}
