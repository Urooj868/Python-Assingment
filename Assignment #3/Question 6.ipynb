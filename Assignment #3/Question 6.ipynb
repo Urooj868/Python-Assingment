{
 "cells": [
  {
   "cell_type": "code",
   "execution_count": 1,
   "id": "a08d9f84",
   "metadata": {},
   "outputs": [
    {
     "name": "stdout",
     "output_type": "stream",
     "text": [
      "Enter first number: 2\n",
      "Enter second number: 3\n",
      "sum: 5\n"
     ]
    }
   ],
   "source": [
    "num1 = int(input(\"Enter first number: \"));\n",
    "num2 = int(input(\"Enter second number: \"));\n",
    "sum = num1 + num2;\n",
    "print(\"sum:\", sum);"
   ]
  },
  {
   "cell_type": "code",
   "execution_count": null,
   "id": "c1805756",
   "metadata": {},
   "outputs": [],
   "source": []
  }
 ],
 "metadata": {
  "kernelspec": {
   "display_name": "Python 3",
   "language": "python",
   "name": "python3"
  },
  "language_info": {
   "codemirror_mode": {
    "name": "ipython",
    "version": 3
   },
   "file_extension": ".py",
   "mimetype": "text/x-python",
   "name": "python",
   "nbconvert_exporter": "python",
   "pygments_lexer": "ipython3",
   "version": "3.8.8"
  }
 },
 "nbformat": 4,
 "nbformat_minor": 5
}
